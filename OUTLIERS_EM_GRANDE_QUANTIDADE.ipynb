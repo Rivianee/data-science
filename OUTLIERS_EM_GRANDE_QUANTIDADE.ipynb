{
  "nbformat": 4,
  "nbformat_minor": 0,
  "metadata": {
    "colab": {
      "provenance": [],
      "authorship_tag": "ABX9TyPq2VtSCEsdyeKYCyvz/BNM",
      "include_colab_link": true
    },
    "kernelspec": {
      "name": "python3",
      "display_name": "Python 3"
    },
    "language_info": {
      "name": "python"
    }
  },
  "cells": [
    {
      "cell_type": "markdown",
      "metadata": {
        "id": "view-in-github",
        "colab_type": "text"
      },
      "source": [
        "<a href=\"https://colab.research.google.com/github/Rivianee/data-science/blob/master/OUTLIERS_EM_GRANDE_QUANTIDADE.ipynb\" target=\"_parent\"><img src=\"https://colab.research.google.com/assets/colab-badge.svg\" alt=\"Open In Colab\"/></a>"
      ]
    },
    {
      "cell_type": "markdown",
      "source": [
        "### DETECÇÃO DE OUTILIERS"
      ],
      "metadata": {
        "id": "t4kn4Soi07RT"
      }
    },
    {
      "cell_type": "markdown",
      "source": [
        "fonte: https://www.sciencedirect.com/science/article/pii/S0031320321000613#fig0001"
      ],
      "metadata": {
        "id": "sITuzBcI2_I7"
      }
    },
    {
      "cell_type": "markdown",
      "source": [
        "Nas formas mais tradicionais para encontrar outilier tentam encontrar esses pontos criando um modelo dos dados e marcando o que está longe desse modelo como outlier.\n",
        "\n",
        "\n",
        "\n",
        "Mas, quando tem muitos outliers, eles podem distorcer o modelo, tornando-o menos preciso.\n",
        "\n",
        "\n",
        "\n",
        "Isso faz com que os métodos tradicionais sejam menos confiáveis em situações com muitos outliers.\n",
        "\n",
        "\n",
        "\n",
        "Para resolver isso, propomos um novo método chamado detector de outliers de deslocamento médio. Aqui está como funciona:"
      ],
      "metadata": {
        "id": "BwSvbXG906kq"
      }
    },
    {
      "cell_type": "code",
      "execution_count": 1,
      "metadata": {
        "id": "wpoOmwNB037t"
      },
      "outputs": [],
      "source": [
        "import numpy as np\n",
        "from sklearn.neighbors import NearestNeighbors\n",
        "\n",
        "def mean_shift_outlier_detection(X, k=5, max_iterations=10):\n",
        "    \"\"\"\n",
        "    Função para detecção de outliers usando deslocamento médio (Mean Shift).\n",
        "\n",
        "    Parâmetros:\n",
        "    - X: Conjunto de dados numpy array de shape (n_samples, n_features).\n",
        "    - k: Número de vizinhos mais próximos a considerar para calcular a média.\n",
        "    - max_iterations: Número máximo de iterações para o processo de deslocamento médio.\n",
        "\n",
        "    Retorna:\n",
        "    - X_modificado: Conjunto de dados modificado após o processo de deslocamento médio.\n",
        "    \"\"\"\n",
        "\n",
        "    X_modificado = np.copy(X)\n",
        "\n",
        "    for _ in range(max_iterations):\n",
        "        for i in range(len(X)):\n",
        "            # Encontrar os k vizinhos mais próximos de X[i]\n",
        "            neigh = NearestNeighbors(n_neighbors=k)\n",
        "            neigh.fit(X_modificado)\n",
        "            neighbors_idx = neigh.kneighbors([X_modificado[i]], return_distance=False)[0]\n",
        "\n",
        "            # Calcular a média dos vizinhos mais próximos\n",
        "            neighbors_mean = np.mean(X_modificado[neighbors_idx], axis=0)\n",
        "\n",
        "            # Substituir Xi pela média dos vizinhos\n",
        "            X_modificado[i] = neighbors_mean\n",
        "\n",
        "    return X_modificado"
      ]
    },
    {
      "cell_type": "markdown",
      "source": [
        "Além disso, ao comparar essa função com métodos com onze detectores de outliers de última geração, incluindo LOF, NC, KNN, ODIN, MCD, IFOREST, OCSVM, PCAD e ABOD. Suas descobertas mostraram que as abordagens propostas (DOD e DOD) superam todos esses métodos em termos de eficácia na detecção de outliers em diferentes tipos de conjuntos de dados.\n",
        "\n",
        "Isso significa, essa função se mostrou mais robust e precis em identificar outliers, oferecendo uma solução melhor do que os métodos tradicionais e de última geração atualmente disponíveis."
      ],
      "metadata": {
        "id": "as1LfYD-2n6O"
      }
    },
    {
      "cell_type": "markdown",
      "source": [
        "Deslocamento Médio: Em vez de criar um modelo diretamente nos dados originais, o método primeiro ajusta cada ponto substituindo-o pela média de seus k pontos mais próximos. Isso ajuda a \"cancelar\" o efeito dos outliers, tornando os dados menos sensíveis a eles.\n",
        "\n",
        "Detecção de Outliers: Depois de ajustar os dados pelo deslocamento médio, o método então identifica outliers com base na distância dos pontos ajustados. Isso significa que ele olha para quão longe cada ponto ajustado está dos outros, identificando assim pontos que são significativamente diferentes.\n",
        "\n",
        "Eficiência e Resultados: Testamos esse método em diferentes conjuntos de dados, tanto numéricos quanto de texto, e descobrimos que ele funciona bem em várias situações, mesmo quando há muitos outliers presentes. Na verdade, ele supera os métodos mais avançados que testamos, mostrando sua eficácia robusta.\n",
        "\n",
        "Em resumo, o detector de outliers de deslocamento médio é uma maneira mais eficaz de lidar com dados que têm muitos pontos anômalos. Ele ajusta os dados antes de analisá-los, o que o torna mais confiável e preciso em comparação com os métodos tradicionais.\n",
        "\n",
        "\n",
        "\n"
      ],
      "metadata": {
        "id": "upvF9m131ep3"
      }
    }
  ]
}