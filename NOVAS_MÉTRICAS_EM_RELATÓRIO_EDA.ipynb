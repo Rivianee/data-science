{
  "nbformat": 4,
  "nbformat_minor": 0,
  "metadata": {
    "colab": {
      "provenance": [],
      "authorship_tag": "ABX9TyM5FK1fbtXtrDfnZCAx9cy8",
      "include_colab_link": true
    },
    "kernelspec": {
      "name": "python3",
      "display_name": "Python 3"
    },
    "language_info": {
      "name": "python"
    },
    "widgets": {
      "application/vnd.jupyter.widget-state+json": {
        "83564b957d97462ea25d412d11771590": {
          "model_module": "@jupyter-widgets/controls",
          "model_name": "HBoxModel",
          "model_module_version": "1.5.0",
          "state": {
            "_dom_classes": [],
            "_model_module": "@jupyter-widgets/controls",
            "_model_module_version": "1.5.0",
            "_model_name": "HBoxModel",
            "_view_count": null,
            "_view_module": "@jupyter-widgets/controls",
            "_view_module_version": "1.5.0",
            "_view_name": "HBoxView",
            "box_style": "",
            "children": [
              "IPY_MODEL_e80d02118dc649a2a40f697e23237a4c",
              "IPY_MODEL_999b82dfd2374b6f9c04180a2dc233d5",
              "IPY_MODEL_37dedc7b15ff4eff884d71029061d264"
            ],
            "layout": "IPY_MODEL_472d8f30b4c0422f97032b66cca6b18f"
          }
        },
        "e80d02118dc649a2a40f697e23237a4c": {
          "model_module": "@jupyter-widgets/controls",
          "model_name": "HTMLModel",
          "model_module_version": "1.5.0",
          "state": {
            "_dom_classes": [],
            "_model_module": "@jupyter-widgets/controls",
            "_model_module_version": "1.5.0",
            "_model_name": "HTMLModel",
            "_view_count": null,
            "_view_module": "@jupyter-widgets/controls",
            "_view_module_version": "1.5.0",
            "_view_name": "HTMLView",
            "description": "",
            "description_tooltip": null,
            "layout": "IPY_MODEL_d638f63554c64dfe94c1e55a7b733ad3",
            "placeholder": "​",
            "style": "IPY_MODEL_c649e84f90134419ab6aa906791414ae",
            "value": "Done! Use &#x27;show&#x27; commands to display/save.   "
          }
        },
        "999b82dfd2374b6f9c04180a2dc233d5": {
          "model_module": "@jupyter-widgets/controls",
          "model_name": "FloatProgressModel",
          "model_module_version": "1.5.0",
          "state": {
            "_dom_classes": [],
            "_model_module": "@jupyter-widgets/controls",
            "_model_module_version": "1.5.0",
            "_model_name": "FloatProgressModel",
            "_view_count": null,
            "_view_module": "@jupyter-widgets/controls",
            "_view_module_version": "1.5.0",
            "_view_name": "ProgressView",
            "bar_style": "success",
            "description": "",
            "description_tooltip": null,
            "layout": "IPY_MODEL_cb3f85ffe9e94bc6a7df90ea094d6572",
            "max": 1,
            "min": 0,
            "orientation": "horizontal",
            "style": "IPY_MODEL_cf3b3c7a6c96413ea228bcf67a2134fb",
            "value": 1
          }
        },
        "37dedc7b15ff4eff884d71029061d264": {
          "model_module": "@jupyter-widgets/controls",
          "model_name": "HTMLModel",
          "model_module_version": "1.5.0",
          "state": {
            "_dom_classes": [],
            "_model_module": "@jupyter-widgets/controls",
            "_model_module_version": "1.5.0",
            "_model_name": "HTMLModel",
            "_view_count": null,
            "_view_module": "@jupyter-widgets/controls",
            "_view_module_version": "1.5.0",
            "_view_name": "HTMLView",
            "description": "",
            "description_tooltip": null,
            "layout": "IPY_MODEL_b712e360f722426095da1ee469afdb0b",
            "placeholder": "​",
            "style": "IPY_MODEL_89851a2211f64d90811808095af20a6b",
            "value": " [100%]   00:00 -&gt; (00:00 left)"
          }
        },
        "472d8f30b4c0422f97032b66cca6b18f": {
          "model_module": "@jupyter-widgets/base",
          "model_name": "LayoutModel",
          "model_module_version": "1.2.0",
          "state": {
            "_model_module": "@jupyter-widgets/base",
            "_model_module_version": "1.2.0",
            "_model_name": "LayoutModel",
            "_view_count": null,
            "_view_module": "@jupyter-widgets/base",
            "_view_module_version": "1.2.0",
            "_view_name": "LayoutView",
            "align_content": null,
            "align_items": null,
            "align_self": null,
            "border": null,
            "bottom": null,
            "display": "inline-flex",
            "flex": null,
            "flex_flow": "row wrap",
            "grid_area": null,
            "grid_auto_columns": null,
            "grid_auto_flow": null,
            "grid_auto_rows": null,
            "grid_column": null,
            "grid_gap": null,
            "grid_row": null,
            "grid_template_areas": null,
            "grid_template_columns": null,
            "grid_template_rows": null,
            "height": null,
            "justify_content": null,
            "justify_items": null,
            "left": null,
            "margin": null,
            "max_height": null,
            "max_width": null,
            "min_height": null,
            "min_width": null,
            "object_fit": null,
            "object_position": null,
            "order": null,
            "overflow": null,
            "overflow_x": null,
            "overflow_y": null,
            "padding": null,
            "right": null,
            "top": null,
            "visibility": null,
            "width": "100%"
          }
        },
        "d638f63554c64dfe94c1e55a7b733ad3": {
          "model_module": "@jupyter-widgets/base",
          "model_name": "LayoutModel",
          "model_module_version": "1.2.0",
          "state": {
            "_model_module": "@jupyter-widgets/base",
            "_model_module_version": "1.2.0",
            "_model_name": "LayoutModel",
            "_view_count": null,
            "_view_module": "@jupyter-widgets/base",
            "_view_module_version": "1.2.0",
            "_view_name": "LayoutView",
            "align_content": null,
            "align_items": null,
            "align_self": null,
            "border": null,
            "bottom": null,
            "display": null,
            "flex": null,
            "flex_flow": null,
            "grid_area": null,
            "grid_auto_columns": null,
            "grid_auto_flow": null,
            "grid_auto_rows": null,
            "grid_column": null,
            "grid_gap": null,
            "grid_row": null,
            "grid_template_areas": null,
            "grid_template_columns": null,
            "grid_template_rows": null,
            "height": null,
            "justify_content": null,
            "justify_items": null,
            "left": null,
            "margin": null,
            "max_height": null,
            "max_width": null,
            "min_height": null,
            "min_width": null,
            "object_fit": null,
            "object_position": null,
            "order": null,
            "overflow": null,
            "overflow_x": null,
            "overflow_y": null,
            "padding": null,
            "right": null,
            "top": null,
            "visibility": null,
            "width": null
          }
        },
        "c649e84f90134419ab6aa906791414ae": {
          "model_module": "@jupyter-widgets/controls",
          "model_name": "DescriptionStyleModel",
          "model_module_version": "1.5.0",
          "state": {
            "_model_module": "@jupyter-widgets/controls",
            "_model_module_version": "1.5.0",
            "_model_name": "DescriptionStyleModel",
            "_view_count": null,
            "_view_module": "@jupyter-widgets/base",
            "_view_module_version": "1.2.0",
            "_view_name": "StyleView",
            "description_width": ""
          }
        },
        "cb3f85ffe9e94bc6a7df90ea094d6572": {
          "model_module": "@jupyter-widgets/base",
          "model_name": "LayoutModel",
          "model_module_version": "1.2.0",
          "state": {
            "_model_module": "@jupyter-widgets/base",
            "_model_module_version": "1.2.0",
            "_model_name": "LayoutModel",
            "_view_count": null,
            "_view_module": "@jupyter-widgets/base",
            "_view_module_version": "1.2.0",
            "_view_name": "LayoutView",
            "align_content": null,
            "align_items": null,
            "align_self": null,
            "border": null,
            "bottom": null,
            "display": null,
            "flex": "2",
            "flex_flow": null,
            "grid_area": null,
            "grid_auto_columns": null,
            "grid_auto_flow": null,
            "grid_auto_rows": null,
            "grid_column": null,
            "grid_gap": null,
            "grid_row": null,
            "grid_template_areas": null,
            "grid_template_columns": null,
            "grid_template_rows": null,
            "height": null,
            "justify_content": null,
            "justify_items": null,
            "left": null,
            "margin": null,
            "max_height": null,
            "max_width": null,
            "min_height": null,
            "min_width": null,
            "object_fit": null,
            "object_position": null,
            "order": null,
            "overflow": null,
            "overflow_x": null,
            "overflow_y": null,
            "padding": null,
            "right": null,
            "top": null,
            "visibility": null,
            "width": null
          }
        },
        "cf3b3c7a6c96413ea228bcf67a2134fb": {
          "model_module": "@jupyter-widgets/controls",
          "model_name": "ProgressStyleModel",
          "model_module_version": "1.5.0",
          "state": {
            "_model_module": "@jupyter-widgets/controls",
            "_model_module_version": "1.5.0",
            "_model_name": "ProgressStyleModel",
            "_view_count": null,
            "_view_module": "@jupyter-widgets/base",
            "_view_module_version": "1.2.0",
            "_view_name": "StyleView",
            "bar_color": null,
            "description_width": ""
          }
        },
        "b712e360f722426095da1ee469afdb0b": {
          "model_module": "@jupyter-widgets/base",
          "model_name": "LayoutModel",
          "model_module_version": "1.2.0",
          "state": {
            "_model_module": "@jupyter-widgets/base",
            "_model_module_version": "1.2.0",
            "_model_name": "LayoutModel",
            "_view_count": null,
            "_view_module": "@jupyter-widgets/base",
            "_view_module_version": "1.2.0",
            "_view_name": "LayoutView",
            "align_content": null,
            "align_items": null,
            "align_self": null,
            "border": null,
            "bottom": null,
            "display": null,
            "flex": null,
            "flex_flow": null,
            "grid_area": null,
            "grid_auto_columns": null,
            "grid_auto_flow": null,
            "grid_auto_rows": null,
            "grid_column": null,
            "grid_gap": null,
            "grid_row": null,
            "grid_template_areas": null,
            "grid_template_columns": null,
            "grid_template_rows": null,
            "height": null,
            "justify_content": null,
            "justify_items": null,
            "left": null,
            "margin": null,
            "max_height": null,
            "max_width": null,
            "min_height": null,
            "min_width": null,
            "object_fit": null,
            "object_position": null,
            "order": null,
            "overflow": null,
            "overflow_x": null,
            "overflow_y": null,
            "padding": null,
            "right": null,
            "top": null,
            "visibility": null,
            "width": null
          }
        },
        "89851a2211f64d90811808095af20a6b": {
          "model_module": "@jupyter-widgets/controls",
          "model_name": "DescriptionStyleModel",
          "model_module_version": "1.5.0",
          "state": {
            "_model_module": "@jupyter-widgets/controls",
            "_model_module_version": "1.5.0",
            "_model_name": "DescriptionStyleModel",
            "_view_count": null,
            "_view_module": "@jupyter-widgets/base",
            "_view_module_version": "1.2.0",
            "_view_name": "StyleView",
            "description_width": ""
          }
        },
        "90f8e7e3e8a64b949ee0a433e747b48d": {
          "model_module": "@jupyter-widgets/controls",
          "model_name": "HBoxModel",
          "model_module_version": "1.5.0",
          "state": {
            "_dom_classes": [],
            "_model_module": "@jupyter-widgets/controls",
            "_model_module_version": "1.5.0",
            "_model_name": "HBoxModel",
            "_view_count": null,
            "_view_module": "@jupyter-widgets/controls",
            "_view_module_version": "1.5.0",
            "_view_name": "HBoxView",
            "box_style": "",
            "children": [
              "IPY_MODEL_f0c0bf4488054184a729f270a41a60fc",
              "IPY_MODEL_e4210d85ce094cbebb2d4fd9ffeb19d9",
              "IPY_MODEL_53a811f752344645b0bd12de9c47fdcf"
            ],
            "layout": "IPY_MODEL_2a1065b02ce841cabae5cbf1348759d5"
          }
        },
        "f0c0bf4488054184a729f270a41a60fc": {
          "model_module": "@jupyter-widgets/controls",
          "model_name": "HTMLModel",
          "model_module_version": "1.5.0",
          "state": {
            "_dom_classes": [],
            "_model_module": "@jupyter-widgets/controls",
            "_model_module_version": "1.5.0",
            "_model_name": "HTMLModel",
            "_view_count": null,
            "_view_module": "@jupyter-widgets/controls",
            "_view_module_version": "1.5.0",
            "_view_name": "HTMLView",
            "description": "",
            "description_tooltip": null,
            "layout": "IPY_MODEL_719c00d07fb842ef956c6cddcb5f7563",
            "placeholder": "​",
            "style": "IPY_MODEL_6a190e4cf19c4ad1ba02d2bcedbbf4c2",
            "value": "Done! Use &#x27;show&#x27; commands to display/save.   "
          }
        },
        "e4210d85ce094cbebb2d4fd9ffeb19d9": {
          "model_module": "@jupyter-widgets/controls",
          "model_name": "FloatProgressModel",
          "model_module_version": "1.5.0",
          "state": {
            "_dom_classes": [],
            "_model_module": "@jupyter-widgets/controls",
            "_model_module_version": "1.5.0",
            "_model_name": "FloatProgressModel",
            "_view_count": null,
            "_view_module": "@jupyter-widgets/controls",
            "_view_module_version": "1.5.0",
            "_view_name": "ProgressView",
            "bar_style": "success",
            "description": "",
            "description_tooltip": null,
            "layout": "IPY_MODEL_e0ea6a641aba4ca391792788a235cb23",
            "max": 1,
            "min": 0,
            "orientation": "horizontal",
            "style": "IPY_MODEL_57e2d91350d141de9ab514b0fbf56f9c",
            "value": 1
          }
        },
        "53a811f752344645b0bd12de9c47fdcf": {
          "model_module": "@jupyter-widgets/controls",
          "model_name": "HTMLModel",
          "model_module_version": "1.5.0",
          "state": {
            "_dom_classes": [],
            "_model_module": "@jupyter-widgets/controls",
            "_model_module_version": "1.5.0",
            "_model_name": "HTMLModel",
            "_view_count": null,
            "_view_module": "@jupyter-widgets/controls",
            "_view_module_version": "1.5.0",
            "_view_name": "HTMLView",
            "description": "",
            "description_tooltip": null,
            "layout": "IPY_MODEL_7f8688650d4141ab91ccdee5d981bd44",
            "placeholder": "​",
            "style": "IPY_MODEL_b3ceea391a3d4dd892bfb7517cea2301",
            "value": " [100%]   00:01 -&gt; (00:00 left)"
          }
        },
        "2a1065b02ce841cabae5cbf1348759d5": {
          "model_module": "@jupyter-widgets/base",
          "model_name": "LayoutModel",
          "model_module_version": "1.2.0",
          "state": {
            "_model_module": "@jupyter-widgets/base",
            "_model_module_version": "1.2.0",
            "_model_name": "LayoutModel",
            "_view_count": null,
            "_view_module": "@jupyter-widgets/base",
            "_view_module_version": "1.2.0",
            "_view_name": "LayoutView",
            "align_content": null,
            "align_items": null,
            "align_self": null,
            "border": null,
            "bottom": null,
            "display": "inline-flex",
            "flex": null,
            "flex_flow": "row wrap",
            "grid_area": null,
            "grid_auto_columns": null,
            "grid_auto_flow": null,
            "grid_auto_rows": null,
            "grid_column": null,
            "grid_gap": null,
            "grid_row": null,
            "grid_template_areas": null,
            "grid_template_columns": null,
            "grid_template_rows": null,
            "height": null,
            "justify_content": null,
            "justify_items": null,
            "left": null,
            "margin": null,
            "max_height": null,
            "max_width": null,
            "min_height": null,
            "min_width": null,
            "object_fit": null,
            "object_position": null,
            "order": null,
            "overflow": null,
            "overflow_x": null,
            "overflow_y": null,
            "padding": null,
            "right": null,
            "top": null,
            "visibility": null,
            "width": "100%"
          }
        },
        "719c00d07fb842ef956c6cddcb5f7563": {
          "model_module": "@jupyter-widgets/base",
          "model_name": "LayoutModel",
          "model_module_version": "1.2.0",
          "state": {
            "_model_module": "@jupyter-widgets/base",
            "_model_module_version": "1.2.0",
            "_model_name": "LayoutModel",
            "_view_count": null,
            "_view_module": "@jupyter-widgets/base",
            "_view_module_version": "1.2.0",
            "_view_name": "LayoutView",
            "align_content": null,
            "align_items": null,
            "align_self": null,
            "border": null,
            "bottom": null,
            "display": null,
            "flex": null,
            "flex_flow": null,
            "grid_area": null,
            "grid_auto_columns": null,
            "grid_auto_flow": null,
            "grid_auto_rows": null,
            "grid_column": null,
            "grid_gap": null,
            "grid_row": null,
            "grid_template_areas": null,
            "grid_template_columns": null,
            "grid_template_rows": null,
            "height": null,
            "justify_content": null,
            "justify_items": null,
            "left": null,
            "margin": null,
            "max_height": null,
            "max_width": null,
            "min_height": null,
            "min_width": null,
            "object_fit": null,
            "object_position": null,
            "order": null,
            "overflow": null,
            "overflow_x": null,
            "overflow_y": null,
            "padding": null,
            "right": null,
            "top": null,
            "visibility": null,
            "width": null
          }
        },
        "6a190e4cf19c4ad1ba02d2bcedbbf4c2": {
          "model_module": "@jupyter-widgets/controls",
          "model_name": "DescriptionStyleModel",
          "model_module_version": "1.5.0",
          "state": {
            "_model_module": "@jupyter-widgets/controls",
            "_model_module_version": "1.5.0",
            "_model_name": "DescriptionStyleModel",
            "_view_count": null,
            "_view_module": "@jupyter-widgets/base",
            "_view_module_version": "1.2.0",
            "_view_name": "StyleView",
            "description_width": ""
          }
        },
        "e0ea6a641aba4ca391792788a235cb23": {
          "model_module": "@jupyter-widgets/base",
          "model_name": "LayoutModel",
          "model_module_version": "1.2.0",
          "state": {
            "_model_module": "@jupyter-widgets/base",
            "_model_module_version": "1.2.0",
            "_model_name": "LayoutModel",
            "_view_count": null,
            "_view_module": "@jupyter-widgets/base",
            "_view_module_version": "1.2.0",
            "_view_name": "LayoutView",
            "align_content": null,
            "align_items": null,
            "align_self": null,
            "border": null,
            "bottom": null,
            "display": null,
            "flex": "2",
            "flex_flow": null,
            "grid_area": null,
            "grid_auto_columns": null,
            "grid_auto_flow": null,
            "grid_auto_rows": null,
            "grid_column": null,
            "grid_gap": null,
            "grid_row": null,
            "grid_template_areas": null,
            "grid_template_columns": null,
            "grid_template_rows": null,
            "height": null,
            "justify_content": null,
            "justify_items": null,
            "left": null,
            "margin": null,
            "max_height": null,
            "max_width": null,
            "min_height": null,
            "min_width": null,
            "object_fit": null,
            "object_position": null,
            "order": null,
            "overflow": null,
            "overflow_x": null,
            "overflow_y": null,
            "padding": null,
            "right": null,
            "top": null,
            "visibility": null,
            "width": null
          }
        },
        "57e2d91350d141de9ab514b0fbf56f9c": {
          "model_module": "@jupyter-widgets/controls",
          "model_name": "ProgressStyleModel",
          "model_module_version": "1.5.0",
          "state": {
            "_model_module": "@jupyter-widgets/controls",
            "_model_module_version": "1.5.0",
            "_model_name": "ProgressStyleModel",
            "_view_count": null,
            "_view_module": "@jupyter-widgets/base",
            "_view_module_version": "1.2.0",
            "_view_name": "StyleView",
            "bar_color": null,
            "description_width": ""
          }
        },
        "7f8688650d4141ab91ccdee5d981bd44": {
          "model_module": "@jupyter-widgets/base",
          "model_name": "LayoutModel",
          "model_module_version": "1.2.0",
          "state": {
            "_model_module": "@jupyter-widgets/base",
            "_model_module_version": "1.2.0",
            "_model_name": "LayoutModel",
            "_view_count": null,
            "_view_module": "@jupyter-widgets/base",
            "_view_module_version": "1.2.0",
            "_view_name": "LayoutView",
            "align_content": null,
            "align_items": null,
            "align_self": null,
            "border": null,
            "bottom": null,
            "display": null,
            "flex": null,
            "flex_flow": null,
            "grid_area": null,
            "grid_auto_columns": null,
            "grid_auto_flow": null,
            "grid_auto_rows": null,
            "grid_column": null,
            "grid_gap": null,
            "grid_row": null,
            "grid_template_areas": null,
            "grid_template_columns": null,
            "grid_template_rows": null,
            "height": null,
            "justify_content": null,
            "justify_items": null,
            "left": null,
            "margin": null,
            "max_height": null,
            "max_width": null,
            "min_height": null,
            "min_width": null,
            "object_fit": null,
            "object_position": null,
            "order": null,
            "overflow": null,
            "overflow_x": null,
            "overflow_y": null,
            "padding": null,
            "right": null,
            "top": null,
            "visibility": null,
            "width": null
          }
        },
        "b3ceea391a3d4dd892bfb7517cea2301": {
          "model_module": "@jupyter-widgets/controls",
          "model_name": "DescriptionStyleModel",
          "model_module_version": "1.5.0",
          "state": {
            "_model_module": "@jupyter-widgets/controls",
            "_model_module_version": "1.5.0",
            "_model_name": "DescriptionStyleModel",
            "_view_count": null,
            "_view_module": "@jupyter-widgets/base",
            "_view_module_version": "1.2.0",
            "_view_name": "StyleView",
            "description_width": ""
          }
        }
      }
    }
  },
  "cells": [
    {
      "cell_type": "markdown",
      "metadata": {
        "id": "view-in-github",
        "colab_type": "text"
      },
      "source": [
        "<a href=\"https://colab.research.google.com/github/Rivianee/data-science/blob/master/NOVAS_M%C3%89TRICAS_EM_RELAT%C3%93RIO_EDA.ipynb\" target=\"_parent\"><img src=\"https://colab.research.google.com/assets/colab-badge.svg\" alt=\"Open In Colab\"/></a>"
      ]
    },
    {
      "cell_type": "markdown",
      "source": [
        "Instale o Sweetviz:\n",
        "Execute o seguinte comando para instalar a biblioteca Sweetviz"
      ],
      "metadata": {
        "id": "zae-06eJWhSc"
      }
    },
    {
      "cell_type": "code",
      "execution_count": 1,
      "metadata": {
        "colab": {
          "base_uri": "https://localhost:8080/"
        },
        "id": "yuui49mWVh-3",
        "outputId": "ce96163d-57c3-47f6-96f0-395d68df644d"
      },
      "outputs": [
        {
          "output_type": "stream",
          "name": "stdout",
          "text": [
            "Collecting sweetviz\n",
            "  Downloading sweetviz-2.2.1-py3-none-any.whl (15.1 MB)\n",
            "\u001b[2K     \u001b[90m━━━━━━━━━━━━━━━━━━━━━━━━━━━━━━━━━━━━━━━━\u001b[0m \u001b[32m15.1/15.1 MB\u001b[0m \u001b[31m82.8 MB/s\u001b[0m eta \u001b[36m0:00:00\u001b[0m\n",
            "\u001b[?25hRequirement already satisfied: pandas!=1.0.0,!=1.0.1,!=1.0.2,>=0.25.3 in /usr/local/lib/python3.10/dist-packages (from sweetviz) (1.5.3)\n",
            "Requirement already satisfied: numpy>=1.16.0 in /usr/local/lib/python3.10/dist-packages (from sweetviz) (1.23.5)\n",
            "Requirement already satisfied: matplotlib>=3.1.3 in /usr/local/lib/python3.10/dist-packages (from sweetviz) (3.7.1)\n",
            "Requirement already satisfied: tqdm>=4.43.0 in /usr/local/lib/python3.10/dist-packages (from sweetviz) (4.66.1)\n",
            "Requirement already satisfied: scipy>=1.3.2 in /usr/local/lib/python3.10/dist-packages (from sweetviz) (1.11.3)\n",
            "Requirement already satisfied: jinja2>=2.11.1 in /usr/local/lib/python3.10/dist-packages (from sweetviz) (3.1.2)\n",
            "Requirement already satisfied: importlib-resources>=1.2.0 in /usr/local/lib/python3.10/dist-packages (from sweetviz) (6.1.1)\n",
            "Requirement already satisfied: MarkupSafe>=2.0 in /usr/local/lib/python3.10/dist-packages (from jinja2>=2.11.1->sweetviz) (2.1.3)\n",
            "Requirement already satisfied: contourpy>=1.0.1 in /usr/local/lib/python3.10/dist-packages (from matplotlib>=3.1.3->sweetviz) (1.2.0)\n",
            "Requirement already satisfied: cycler>=0.10 in /usr/local/lib/python3.10/dist-packages (from matplotlib>=3.1.3->sweetviz) (0.12.1)\n",
            "Requirement already satisfied: fonttools>=4.22.0 in /usr/local/lib/python3.10/dist-packages (from matplotlib>=3.1.3->sweetviz) (4.44.0)\n",
            "Requirement already satisfied: kiwisolver>=1.0.1 in /usr/local/lib/python3.10/dist-packages (from matplotlib>=3.1.3->sweetviz) (1.4.5)\n",
            "Requirement already satisfied: packaging>=20.0 in /usr/local/lib/python3.10/dist-packages (from matplotlib>=3.1.3->sweetviz) (23.2)\n",
            "Requirement already satisfied: pillow>=6.2.0 in /usr/local/lib/python3.10/dist-packages (from matplotlib>=3.1.3->sweetviz) (9.4.0)\n",
            "Requirement already satisfied: pyparsing>=2.3.1 in /usr/local/lib/python3.10/dist-packages (from matplotlib>=3.1.3->sweetviz) (3.1.1)\n",
            "Requirement already satisfied: python-dateutil>=2.7 in /usr/local/lib/python3.10/dist-packages (from matplotlib>=3.1.3->sweetviz) (2.8.2)\n",
            "Requirement already satisfied: pytz>=2020.1 in /usr/local/lib/python3.10/dist-packages (from pandas!=1.0.0,!=1.0.1,!=1.0.2,>=0.25.3->sweetviz) (2023.3.post1)\n",
            "Requirement already satisfied: six>=1.5 in /usr/local/lib/python3.10/dist-packages (from python-dateutil>=2.7->matplotlib>=3.1.3->sweetviz) (1.16.0)\n",
            "Installing collected packages: sweetviz\n",
            "Successfully installed sweetviz-2.2.1\n"
          ]
        }
      ],
      "source": [
        "!pip install sweetviz"
      ]
    },
    {
      "cell_type": "markdown",
      "source": [
        "Importe as Bibliotecas Necessárias:"
      ],
      "metadata": {
        "id": "2ZXe8id2Wk3M"
      }
    },
    {
      "cell_type": "code",
      "source": [
        "import pandas as pd\n",
        "import sweetviz as sv\n",
        "from datetime import datetime"
      ],
      "metadata": {
        "id": "SKuxAOxmWnO7"
      },
      "execution_count": 2,
      "outputs": []
    },
    {
      "cell_type": "markdown",
      "source": [
        "Carregue seus Dados:"
      ],
      "metadata": {
        "id": "HWQoz-NDWpxj"
      }
    },
    {
      "cell_type": "code",
      "source": [
        "# Exemplo de carregamento de dados\n",
        "df = pd.read_excel('/content/Dados Solução Casting.xlsx')"
      ],
      "metadata": {
        "id": "m4tjhVJcWsm7"
      },
      "execution_count": 4,
      "outputs": []
    },
    {
      "cell_type": "markdown",
      "source": [
        "Crie e Salve o Relatório Sweetviz:"
      ],
      "metadata": {
        "id": "vIsAe9ToXDky"
      }
    },
    {
      "cell_type": "code",
      "source": [
        "# Supondo que 'df' seja o seu DataFrame\n",
        "df = df.drop('VUF_CODIGO_BOLETO', axis=1)"
      ],
      "metadata": {
        "id": "LDUj8feqXU7E"
      },
      "execution_count": 28,
      "outputs": []
    },
    {
      "cell_type": "code",
      "source": [
        "# Crie o relatório Sweetviz\n",
        "report = sv.analyze(df)\n",
        "\n",
        "# Mostre o relatório no notebook\n",
        "report.show_html(\"sweetviz_report.html\")"
      ],
      "metadata": {
        "colab": {
          "base_uri": "https://localhost:8080/",
          "height": 66,
          "referenced_widgets": [
            "83564b957d97462ea25d412d11771590",
            "e80d02118dc649a2a40f697e23237a4c",
            "999b82dfd2374b6f9c04180a2dc233d5",
            "37dedc7b15ff4eff884d71029061d264",
            "472d8f30b4c0422f97032b66cca6b18f",
            "d638f63554c64dfe94c1e55a7b733ad3",
            "c649e84f90134419ab6aa906791414ae",
            "cb3f85ffe9e94bc6a7df90ea094d6572",
            "cf3b3c7a6c96413ea228bcf67a2134fb",
            "b712e360f722426095da1ee469afdb0b",
            "89851a2211f64d90811808095af20a6b"
          ]
        },
        "id": "e8KXJhwVXELB",
        "outputId": "d93a014e-2236-444c-81bb-e7e1ff6fe4e1"
      },
      "execution_count": 7,
      "outputs": [
        {
          "output_type": "display_data",
          "data": {
            "text/plain": [
              "                                             |          | [  0%]   00:00 -> (? left)"
            ],
            "application/vnd.jupyter.widget-view+json": {
              "version_major": 2,
              "version_minor": 0,
              "model_id": "83564b957d97462ea25d412d11771590"
            }
          },
          "metadata": {}
        },
        {
          "output_type": "stream",
          "name": "stdout",
          "text": [
            "Report sweetviz_report.html was generated! NOTEBOOK/COLAB USERS: the web browser MAY not pop up, regardless, the report IS saved in your notebook/colab files.\n"
          ]
        }
      ]
    },
    {
      "cell_type": "markdown",
      "source": [
        "Para adicionar métricas personalizadas, como o Desvio Absoluto da Mediana (MAD), Desvio da Média (Mean Absolute Deviation from the Mean - MAD-M), curtose e assimetria ao seu relatório Sweetviz, você pode seguir estas etapas:"
      ],
      "metadata": {
        "id": "TMpGorpHYA5o"
      }
    },
    {
      "cell_type": "markdown",
      "source": [
        "Calcular as Métricas:\n",
        "Antes de adicionar as métricas ao relatório Sweetviz, calcule as métricas desejadas no seu DataFrame Pandas. Supondo que você já tenha o DataFrame carregado (df), você pode usar o módulo stats do SciPy para calcular a curtose e assimetria. Como tem que ser calculadas essas métricas eu selecionei a coluna target que é meu alvo para eu entender melhor."
      ],
      "metadata": {
        "id": "1rW6a36JYJY6"
      }
    },
    {
      "cell_type": "code",
      "source": [
        "from scipy.stats import kurtosis, skew\n",
        "\n",
        "# Calcular métricas para VUF_QTPRODUTO\n",
        "qtproduto = df['VUF_QTPRODUTO']\n",
        "mean_qtproduto = qtproduto.mean()\n",
        "\n",
        "mad_qtproduto = qtproduto.mad()\n",
        "mad_m_qtproduto = (qtproduto - mean_qtproduto).abs().mean()\n",
        "curtose_qtproduto = kurtosis(qtproduto)\n",
        "assimetria_qtproduto = skew(qtproduto)\n",
        "\n",
        "# Calcular métricas para VUF_VLRLIQFINAL\n",
        "vlrfinal = df['VUF_VLRLIQFINAL']\n",
        "mean_vlrfinal = vlrfinal.mean()\n",
        "\n",
        "mad_vlrfinal = vlrfinal.mad()\n",
        "mad_m_vlrfinal = (vlrfinal - mean_vlrfinal).abs().mean()\n",
        "\n",
        "# Criar DataFrame com as métricas\n",
        "metricas_dict = {\n",
        "    'MAD_QTPRODUTO': [mad_qtproduto],\n",
        "    'MAD-M_QTPRODUTO': [mad_m_qtproduto],\n",
        "    'Curtose_QTPRODUTO': [curtose_qtproduto],\n",
        "    'Assimetria_QTPRODUTO': [assimetria_qtproduto],\n",
        "    'MAD_VLRFINAL': [mad_vlrfinal],\n",
        "    'MAD-M_VLRFINAL': [mad_m_vlrfinal],\n",
        "}\n",
        "\n",
        "metricas_df = pd.DataFrame(metricas_dict)\n",
        "\n",
        "# Visualizar o DataFrame de métricas\n",
        "print(metricas_df)\n"
      ],
      "metadata": {
        "colab": {
          "base_uri": "https://localhost:8080/"
        },
        "id": "8wU5rESTYHUB",
        "outputId": "d5f9ddd3-7e8a-4a02-dab8-d32c1823fb7b"
      },
      "execution_count": 12,
      "outputs": [
        {
          "output_type": "stream",
          "name": "stdout",
          "text": [
            "   MAD_QTPRODUTO  MAD-M_QTPRODUTO  Curtose_QTPRODUTO  Assimetria_QTPRODUTO  \\\n",
            "0       0.172773         0.172773       60218.280314            240.340839   \n",
            "\n",
            "   MAD_VLRFINAL  MAD-M_VLRFINAL  Curtose_VLRFINAL  Assimetria_VLRFINAL  \n",
            "0    346.216647      346.216647        469.848144             8.732142  \n"
          ]
        },
        {
          "output_type": "stream",
          "name": "stderr",
          "text": [
            "<ipython-input-12-b1d866bf5f22>:7: FutureWarning: The 'mad' method is deprecated and will be removed in a future version. To compute the same result, you may do `(df - df.mean()).abs().mean()`.\n",
            "  mad_qtproduto = qtproduto.mad()\n",
            "<ipython-input-12-b1d866bf5f22>:16: FutureWarning: The 'mad' method is deprecated and will be removed in a future version. To compute the same result, you may do `(df - df.mean()).abs().mean()`.\n",
            "  mad_vlrfinal = vlrfinal.mad()\n"
          ]
        }
      ]
    },
    {
      "cell_type": "code",
      "source": [
        "import pandas as pd\n",
        "import sweetviz as sv\n",
        "from scipy.stats import kurtosis, skew\n",
        "from datetime import datetime\n",
        "\n",
        "# Carregar os dados\n",
        "# Carregar os dados com a codificação correta\n",
        "df = pd.read_excel('/content/Dados Solução Casting.xlsx', engine='openpyxl')\n",
        "\n",
        "#Supondo que 'df' seja o seu DataFrame\n",
        "df = df.drop('VUF_CODIGO_BOLETO', axis=1)\n",
        "\n",
        "# Calcular MAD-M para VUF_QTPRODUTO\n",
        "median_qtproduto = qtproduto.median()\n",
        "mad_m_qtproduto = (qtproduto - median_qtproduto).abs().median()\n",
        "\n",
        "# Calcular métricas para VUF_VLRLIQFINAL\n",
        "vlrfinal = df['VUF_VLRLIQFINAL']\n",
        "mean_vlrfinal = vlrfinal.mean()\n",
        "\n",
        "mad_vlrfinal = vlrfinal.mad()\n",
        "\n",
        "# Calcular MAD-M para VUF_VLRLIQFINAL\n",
        "median_vlrfinal = vlrfinal.median()\n",
        "mad_m_vlrfinal = (vlrfinal - median_vlrfinal).abs().median()\n",
        "\n",
        "# Criar DataFrame com as novas métricas\n",
        "new_metrics_dict = {\n",
        "    'MAD_QTPRODUTO': [mad_qtproduto],\n",
        "    'MAD-M_QTPRODUTO': [mad_m_qtproduto],\n",
        "    'MAD_VLRLIQFINAL': [mad_vlrfinal],\n",
        "    'MAD-M_VLRLIQFINAL': [mad_m_vlrfinal],\n",
        "}\n",
        "\n",
        "new_metrics_df = pd.DataFrame(new_metrics_dict)\n",
        "\n",
        "# Combinar DataFrame original com DataFrame de novas métricas\n",
        "combined_df = pd.concat([df, new_metrics_df], axis=1)\n",
        "\n",
        "\n",
        "desc_stats_df = pd.DataFrame(desc_stats_dict)\n",
        "\n",
        "# Combinar DataFrame original com DataFrame de estatísticas descritivas\n",
        "combined_df = pd.concat([df, desc_stats_df], axis=1)\n",
        "\n",
        "# Criar relatório Sweetviz para o DataFrame combinado\n",
        "report_combined = sv.analyze(combined_df)\n",
        "\n",
        "# Gerar um nome de arquivo único com data e hora\n",
        "current_datetime = datetime.now().strftime(\"%Y%m%d_%H%M%S\")\n",
        "combined_file_name = f\"sweetviz_combined_report_{current_datetime}.html\"\n",
        "\n",
        "# Salvar o relatório combinado como um arquivo HTML\n",
        "report_combined.show_html(combined_file_name)\n",
        "\n",
        "print(f\"Relatório combinado salvo como: {combined_file_name}\")"
      ],
      "metadata": {
        "colab": {
          "base_uri": "https://localhost:8080/",
          "height": 153,
          "referenced_widgets": [
            "90f8e7e3e8a64b949ee0a433e747b48d",
            "f0c0bf4488054184a729f270a41a60fc",
            "e4210d85ce094cbebb2d4fd9ffeb19d9",
            "53a811f752344645b0bd12de9c47fdcf",
            "2a1065b02ce841cabae5cbf1348759d5",
            "719c00d07fb842ef956c6cddcb5f7563",
            "6a190e4cf19c4ad1ba02d2bcedbbf4c2",
            "e0ea6a641aba4ca391792788a235cb23",
            "57e2d91350d141de9ab514b0fbf56f9c",
            "7f8688650d4141ab91ccdee5d981bd44",
            "b3ceea391a3d4dd892bfb7517cea2301"
          ]
        },
        "id": "wJ_3YIN6oVJ_",
        "outputId": "514fa37e-2589-4eba-ca2e-2178a906df4e"
      },
      "execution_count": 34,
      "outputs": [
        {
          "output_type": "stream",
          "name": "stderr",
          "text": [
            "<ipython-input-34-b052f473a1ab>:17: FutureWarning: The 'mad' method is deprecated and will be removed in a future version. To compute the same result, you may do `(df - df.mean()).abs().mean()`.\n",
            "  mad_qtproduto = qtproduto.mad()\n",
            "<ipython-input-34-b052f473a1ab>:25: FutureWarning: The 'mad' method is deprecated and will be removed in a future version. To compute the same result, you may do `(df - df.mean()).abs().mean()`.\n",
            "  mad_vlrfinal = vlrfinal.mad()\n"
          ]
        },
        {
          "output_type": "display_data",
          "data": {
            "text/plain": [
              "                                             |          | [  0%]   00:00 -> (? left)"
            ],
            "application/vnd.jupyter.widget-view+json": {
              "version_major": 2,
              "version_minor": 0,
              "model_id": "90f8e7e3e8a64b949ee0a433e747b48d"
            }
          },
          "metadata": {}
        },
        {
          "output_type": "stream",
          "name": "stdout",
          "text": [
            "Report sweetviz_combined_report_20231109_202834.html was generated! NOTEBOOK/COLAB USERS: the web browser MAY not pop up, regardless, the report IS saved in your notebook/colab files.\n",
            "Relatório combinado salvo como: sweetviz_combined_report_20231109_202834.html\n"
          ]
        }
      ]
    },
    {
      "cell_type": "code",
      "source": [
        "\n",
        "# Combinar DataFrame original com DataFrame de novas métricas\n",
        "combined_df = pd.concat([df, new_metrics_df], axis=1)\n",
        "\n",
        "\n",
        "desc_stats_df = pd.DataFrame(desc_stats_dict)\n",
        "\n",
        "# Combinar DataFrame original com DataFrame de estatísticas descritivas\n",
        "combined_df = pd.concat([df, desc_stats_df], axis=1)\n",
        "\n",
        "# Criar relatório Sweetviz para o DataFrame combinado\n",
        "report_combined = sv.analyze(combined_df)\n",
        "\n",
        "# Gerar um nome de arquivo único com data e hora\n",
        "current_datetime = datetime.now().strftime(\"%Y%m%d_%H%M%S\")\n",
        "combined_file_name = f\"sweetviz_combined_report_{current_datetime}.html\"\n",
        "\n",
        "# Salvar o relatório combinado como um arquivo HTML\n",
        "report_combined.show_html(combined_file_name)\n",
        "\n",
        "print(f\"Relatório combinado salvo como: {combined_file_name}\")"
      ],
      "metadata": {
        "id": "4KYrK0HkyaCi"
      },
      "execution_count": null,
      "outputs": []
    }
  ]
}