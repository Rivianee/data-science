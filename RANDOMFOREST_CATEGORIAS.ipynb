{
  "nbformat": 4,
  "nbformat_minor": 0,
  "metadata": {
    "colab": {
      "provenance": [],
      "authorship_tag": "ABX9TyOo6++/0RInI1UNsXsjDExh",
      "include_colab_link": true
    },
    "kernelspec": {
      "name": "python3",
      "display_name": "Python 3"
    },
    "language_info": {
      "name": "python"
    }
  },
  "cells": [
    {
      "cell_type": "markdown",
      "metadata": {
        "id": "view-in-github",
        "colab_type": "text"
      },
      "source": [
        "<a href=\"https://colab.research.google.com/github/Rivianee/data-science/blob/master/RANDOMFOREST_CATEGORIAS.ipynb\" target=\"_parent\"><img src=\"https://colab.research.google.com/assets/colab-badge.svg\" alt=\"Open In Colab\"/></a>"
      ]
    },
    {
      "cell_type": "code",
      "source": [
        "import pandas as pd\n",
        "import numpy as np\n",
        "from sklearn.feature_extraction.text import TfidfVectorizer\n",
        "from sklearn.ensemble import RandomForestClassifier\n",
        "\n",
        "# Carregar a planilha com os dados\n",
        "data = pd.read_excel('/content/PRODUTO E CATEGORIA PARA TESTE.xlsx')\n",
        "\n",
        "# Padronizar as colunas \"Produto\" e \"Categoria\"\n",
        "data['Produto'] = data['Produto'].str.lower()\n",
        "\n",
        "# Separar os dados com categorias preenchidas (treinamento)\n",
        "train_data = data[data['Categoria'].notnull()]\n",
        "\n",
        "# Separar as variáveis de treinamento e alvo\n",
        "X_train_text = train_data['Produto'].values\n",
        "y_train = train_data['Categoria'].values\n",
        "\n",
        "# Criar uma instância do vetorizador TF-IDF\n",
        "tfidf_vectorizer = TfidfVectorizer()\n",
        "\n",
        "# Transformar o texto em vetores TF-IDF\n",
        "X_train = tfidf_vectorizer.fit_transform(X_train_text)\n",
        "\n",
        "# Criar e treinar o modelo de Random Forest\n",
        "rf_model = RandomForestClassifier()\n",
        "rf_model.fit(X_train, y_train)\n",
        "\n",
        "# Filtrar os itens a serem classificados (sem categoria)\n",
        "unclassified_data = data[data['Categoria'].isnull()]\n",
        "\n",
        "if len(unclassified_data) > 0:\n",
        "    # Filtrar itens sem categoria\n",
        "    unclassified_data = unclassified_data.dropna(subset=['Produto'])\n",
        "\n",
        "    if len(unclassified_data) > 0:\n",
        "        # Transformar o texto dos itens sem categoria em vetores TF-IDF\n",
        "        X_unclassified_text = unclassified_data['Produto'].values\n",
        "        X_unclassified = tfidf_vectorizer.transform(X_unclassified_text)\n",
        "\n",
        "        # Fazer previsões para os itens sem categoria\n",
        "        predicted_categories = rf_model.predict(X_unclassified)\n",
        "\n",
        "        # Atualizar as categorias dos itens classificados\n",
        "        data.loc[unclassified_data.index, 'Categoria'] = predicted_categories\n",
        "\n",
        "        # Salvar o DataFrame atualizado em um novo arquivo Excel\n",
        "        data.to_excel('seu_arquivo_atualizado.xlsx', index=False)\n",
        "    else:\n",
        "        print(\"Não há itens sem categoria para serem classificados.\")\n",
        "else:\n",
        "    print(\"Não há itens para serem classificados.\")"
      ],
      "metadata": {
        "id": "H8B-7JwUMJtF"
      },
      "execution_count": 46,
      "outputs": []
    },
    {
      "cell_type": "code",
      "source": [
        "from sklearn.metrics import accuracy_score\n",
        "\n",
        "# Filtrar os dados com categorias preenchidas (teste)\n",
        "test_data = data[data['Categoria'].notnull()]\n",
        "\n",
        "# Separar as variáveis de teste\n",
        "X_test_text = test_data['Produto'].values\n",
        "y_true = test_data['Categoria'].values\n",
        "\n",
        "# Transformar o texto dos itens de teste em vetores TF-IDF\n",
        "X_test = tfidf_vectorizer.transform(X_test_text)\n",
        "\n",
        "# Fazer previsões nos dados de teste\n",
        "y_pred = rf_model.predict(X_test)\n",
        "\n",
        "# Calcular a acurácia do modelo\n",
        "accuracy = accuracy_score(y_true, y_pred)\n",
        "print(f'Acurácia do modelo: {accuracy:.2f}')"
      ],
      "metadata": {
        "colab": {
          "base_uri": "https://localhost:8080/"
        },
        "id": "xe_NPOyeMj9h",
        "outputId": "ce144ed6-5b4b-40cc-9dff-78af76bf67ee"
      },
      "execution_count": 47,
      "outputs": [
        {
          "output_type": "stream",
          "name": "stdout",
          "text": [
            "Acurácia do modelo: 1.00\n"
          ]
        }
      ]
    },
    {
      "cell_type": "code",
      "source": [
        "from sklearn.model_selection import cross_val_score\n",
        "\n",
        "# Realizar a validação cruzada com o modelo Random Forest\n",
        "scores = cross_val_score(rf_model, X_train, y_train, cv=5)  # cv é o número de folds\n",
        "\n",
        "# Calcular a média das pontuações\n",
        "mean_accuracy = scores.mean()\n",
        "\n",
        "print(\"Acurácia Média da Validação Cruzada:\", mean_accuracy)"
      ],
      "metadata": {
        "colab": {
          "base_uri": "https://localhost:8080/"
        },
        "id": "tiXzh2QxM0qp",
        "outputId": "f68e8b04-633d-4cd4-e000-dc1fe86ab9b8"
      },
      "execution_count": 48,
      "outputs": [
        {
          "output_type": "stream",
          "name": "stderr",
          "text": [
            "/usr/local/lib/python3.10/dist-packages/sklearn/model_selection/_split.py:700: UserWarning: The least populated class in y has only 3 members, which is less than n_splits=5.\n",
            "  warnings.warn(\n"
          ]
        },
        {
          "output_type": "stream",
          "name": "stdout",
          "text": [
            "Acurácia Média da Validação Cruzada: 0.6142694565347602\n"
          ]
        }
      ]
    },
    {
      "cell_type": "code",
      "source": [
        "from sklearn.model_selection import cross_validate\n",
        "from sklearn.metrics import make_scorer, accuracy_score, precision_score, recall_score, f1_score\n",
        "\n",
        "# Definir as métricas que você deseja avaliar\n",
        "scoring = {\n",
        "    'accuracy': make_scorer(accuracy_score),\n",
        "    'precision': make_scorer(precision_score, average='weighted'),\n",
        "    'recall': make_scorer(recall_score, average='weighted'),\n",
        "    'f1': make_scorer(f1_score, average='weighted')\n",
        "}\n",
        "\n",
        "# Realizar a validação cruzada com o modelo Random Forest\n",
        "cv_results = cross_validate(rf_model, X_train, y_train, cv=5, scoring=scoring)\n",
        "\n",
        "# Imprimir os resultados de cada métrica em cada fold\n",
        "print(\"Acurácia Média:\", cv_results['test_accuracy'].mean())\n",
        "print(\"Precisão Média:\", cv_results['test_precision'].mean())\n",
        "print(\"Recall Médio:\", cv_results['test_recall'].mean())\n",
        "print(\"F1-Score Médio:\", cv_results['test_f1'].mean())"
      ],
      "metadata": {
        "colab": {
          "base_uri": "https://localhost:8080/"
        },
        "id": "YBL0fSbWM4td",
        "outputId": "9fa02823-5d8a-4a76-9872-5db350c5316f"
      },
      "execution_count": 49,
      "outputs": [
        {
          "output_type": "stream",
          "name": "stderr",
          "text": [
            "/usr/local/lib/python3.10/dist-packages/sklearn/model_selection/_split.py:700: UserWarning: The least populated class in y has only 3 members, which is less than n_splits=5.\n",
            "  warnings.warn(\n",
            "/usr/local/lib/python3.10/dist-packages/sklearn/metrics/_classification.py:1344: UndefinedMetricWarning: Precision is ill-defined and being set to 0.0 in labels with no predicted samples. Use `zero_division` parameter to control this behavior.\n",
            "  _warn_prf(average, modifier, msg_start, len(result))\n",
            "/usr/local/lib/python3.10/dist-packages/sklearn/metrics/_classification.py:1344: UndefinedMetricWarning: Precision is ill-defined and being set to 0.0 in labels with no predicted samples. Use `zero_division` parameter to control this behavior.\n",
            "  _warn_prf(average, modifier, msg_start, len(result))\n",
            "/usr/local/lib/python3.10/dist-packages/sklearn/metrics/_classification.py:1344: UndefinedMetricWarning: Precision is ill-defined and being set to 0.0 in labels with no predicted samples. Use `zero_division` parameter to control this behavior.\n",
            "  _warn_prf(average, modifier, msg_start, len(result))\n",
            "/usr/local/lib/python3.10/dist-packages/sklearn/metrics/_classification.py:1344: UndefinedMetricWarning: Precision is ill-defined and being set to 0.0 in labels with no predicted samples. Use `zero_division` parameter to control this behavior.\n",
            "  _warn_prf(average, modifier, msg_start, len(result))\n"
          ]
        },
        {
          "output_type": "stream",
          "name": "stdout",
          "text": [
            "Acurácia Média: 0.6111048995727348\n",
            "Precisão Média: 0.5984959270816452\n",
            "Recall Médio: 0.6111048995727348\n",
            "F1-Score Médio: 0.5918596532328737\n"
          ]
        },
        {
          "output_type": "stream",
          "name": "stderr",
          "text": [
            "/usr/local/lib/python3.10/dist-packages/sklearn/metrics/_classification.py:1344: UndefinedMetricWarning: Precision is ill-defined and being set to 0.0 in labels with no predicted samples. Use `zero_division` parameter to control this behavior.\n",
            "  _warn_prf(average, modifier, msg_start, len(result))\n"
          ]
        }
      ]
    }
  ]
}