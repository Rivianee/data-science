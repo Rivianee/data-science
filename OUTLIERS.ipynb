{
  "nbformat": 4,
  "nbformat_minor": 0,
  "metadata": {
    "colab": {
      "provenance": [],
      "authorship_tag": "ABX9TyN9N0BsBIhdY3bLYJUDzYur",
      "include_colab_link": true
    },
    "kernelspec": {
      "name": "python3",
      "display_name": "Python 3"
    },
    "language_info": {
      "name": "python"
    }
  },
  "cells": [
    {
      "cell_type": "markdown",
      "metadata": {
        "id": "view-in-github",
        "colab_type": "text"
      },
      "source": [
        "<a href=\"https://colab.research.google.com/github/Rivianee/data-science/blob/master/OUTLIERS.ipynb\" target=\"_parent\"><img src=\"https://colab.research.google.com/assets/colab-badge.svg\" alt=\"Open In Colab\"/></a>"
      ]
    },
    {
      "cell_type": "markdown",
      "source": [
        "# **Tratamento de Outliers em Análise de Dados**\n",
        "\n",
        "Descrição\n",
        "\n",
        "Este repositório contém uma implementação em Python de técnicas avançadas para o tratamento de outliers em análise de dados. Os outliers são valores extremos que se desviam significativamente do padrão geral dos dados. Eles podem ser causados por erros de medição, anomalias ou eventos raros, e podem distorcer as análises estatísticas e os modelos preditivos. O objetivo deste projeto é fornecer um conjunto abrangente de métodos robustos e eficientes para identificar, analisar e tratar outliers, melhorando a qualidade das análises e dos insights obtidos a partir dos dados."
      ],
      "metadata": {
        "id": "X8VXZ2PXYmvB"
      }
    },
    {
      "cell_type": "markdown",
      "source": [
        "# **Funcionalidades**\n",
        "# 1. Detecção de Outliers\n",
        "\n",
        "Z-score:\n",
        "\n",
        "Implementação do método Z-score para calcular o desvio de cada ponto de dados em relação à média e ao desvio padrão.\n",
        "Valores com Z-score acima de um limite especificado são considerados outliers.\n",
        "\n",
        "\n",
        "Intervalo Interquartil (IQR):\n",
        "\n",
        "Cálculo do IQR, que é a diferença entre o terceiro quartil (75%) e o primeiro quartil (25%).\n",
        "Valores abaixo do primeiro quartil subtraídos de um múltiplo do IQR ou acima do terceiro quartil adicionados a um múltiplo do IQR são considerados outliers.\n"
      ],
      "metadata": {
        "id": "xb7pBr92Y0cX"
      }
    },
    {
      "cell_type": "code",
      "execution_count": null,
      "metadata": {
        "id": "6Nrt03RGYLDu"
      },
      "outputs": [],
      "source": [
        "# Exemplo de detecção de outliers usando Z-score\n",
        "from outlier_detection import z_score\n",
        "\n",
        "data = [10, 12, 15, 1000, 9, 11, 13, 2000]\n",
        "outliers_zscore = z_score(data, threshold=2)\n",
        "print(\"Outliers detectados usando Z-score:\", outliers_zscore)  # [1000, 2000]\n",
        "\n",
        "# Exemplo de detecção de outliers usando Intervalo Interquartil (IQR)\n",
        "from outlier_detection import iqr\n",
        "\n",
        "data = [10, 12, 15, 1000, 9, 11, 13, 2000]\n",
        "outliers_iqr = iqr(data, multiplier=1.5)\n",
        "print(\"Outliers detectados usando IQR:\", outliers_iqr)  # [1000, 2000]"
      ]
    },
    {
      "cell_type": "markdown",
      "source": [
        "# **2. Tratamento de Outliers**\n",
        "# Remoção:\n",
        "\n",
        "Remoção dos outliers identificados dos dados.\n",
        "Opção para especificar seletivamente quais outliers remover com base em critérios específicos.\n",
        "\n"
      ],
      "metadata": {
        "id": "uFMXYFNiZI8_"
      }
    },
    {
      "cell_type": "code",
      "source": [
        "# Exemplo de remoção de outliers\n",
        "from outlier_treatment import remove_outliers\n",
        "\n",
        "data = [10, 12, 15, 1000, 9, 11, 13, 2000]\n",
        "filtered_data = remove_outliers(data, method=\"zscore\", threshold=2)\n",
        "print(\"Dados após remoção de outliers:\", filtered_data)  # [10, 12, 15, 9, 11, 13]\n"
      ],
      "metadata": {
        "id": "bjJBDdc9Z_Pt"
      },
      "execution_count": null,
      "outputs": []
    },
    {
      "cell_type": "markdown",
      "source": [
        "# Substituição:\n",
        "\n",
        "Substituição dos outliers por valores imputados, como a média, mediana ou um valor estatístico mais apropriado.\n",
        "Opção para escolher o método de substituição adequado de acordo com o contexto dos dados.\n",
        "\n"
      ],
      "metadata": {
        "id": "RhtoQcfRaFLU"
      }
    },
    {
      "cell_type": "code",
      "source": [
        "# Exemplo de substituição de outliers pela mediana\n",
        "from outlier_treatment import replace_outliers_with_median\n",
        "\n",
        "data = [10, 12, 15, 1000, 9, 11, 13, 2000]\n",
        "filtered_data = replace_outliers_with_median(data, method=\"zscore\", threshold=2)\n",
        "print(\"Dados após substituição de outliers pela mediana:\", filtered_data)  # [10, 12, 15, 11, 9, 11, 13, 12]"
      ],
      "metadata": {
        "id": "o1_wdRT9aHtE"
      },
      "execution_count": null,
      "outputs": []
    },
    {
      "cell_type": "markdown",
      "source": [
        "# Transformação:\n",
        "\n",
        "Aplicação de transformações nos dados para reduzir o impacto dos outliers.\n",
        "Transformações comuns incluem a transformação logarítmica, raiz quadrada, Box-Cox e outras.\n",
        "\n",
        "Nesse exemplo, a função log_transform é usada para aplicar uma transformação logarítmica aos dados, reduzindo o impacto dos outliers e tornando a distribuição dos dados mais equilibrada.\n",
        "\n"
      ],
      "metadata": {
        "id": "altfEMm-aQBr"
      }
    },
    {
      "cell_type": "code",
      "source": [
        "# Exemplo de transformação logarítmica para tratar outliers\n",
        "from outlier_treatment import log_transform\n",
        "\n",
        "data = [10, 12, 15, 1000, 9, 11, 13, 2000]\n",
        "transformed_data = log_transform(data)\n",
        "print(\"Dados após transformação logarítmica:\", transformed_data)"
      ],
      "metadata": {
        "id": "OAHSNglgadJB"
      },
      "execution_count": null,
      "outputs": []
    },
    {
      "cell_type": "markdown",
      "source": [
        "# Winsorization:\n",
        "\n",
        "Substituição dos outliers pelos valores extremos dentro de um intervalo aceitável.\n",
        "Limites superiores e inferiores são definidos para restringir os valores substituídos. Nesse exemplo, a função winsorize da biblioteca SciPy é usada para aplicar a técnica de Winsorization aos dados. Os limites [0.05, 0.05] especificam que os 5% menores e os 5% maiores valores serão substituídos pelos valores extremos dentro do intervalo aceitável. Dessa forma, os outliers são substituídos pelos valores mais próximos, mantendo a forma geral dos dados."
      ],
      "metadata": {
        "id": "51AR_2JuagyP"
      }
    },
    {
      "cell_type": "code",
      "source": [
        "# Exemplo de Winsorization para tratar outliers\n",
        "from scipy.stats.mstats import winsorize\n",
        "\n",
        "data = [10, 12, 15, 1000, 9, 11, 13, 2000]\n",
        "winsorized_data = winsorize(data, limits=[0.05, 0.05])\n",
        "print(\"Dados após Winsorization:\", winsorized_data)"
      ],
      "metadata": {
        "id": "pzzV761Aa2sg"
      },
      "execution_count": null,
      "outputs": []
    },
    {
      "cell_type": "markdown",
      "source": [
        "# **3. Modelos Robustos**\n",
        "\n",
        "Utilização de modelos estatísticos e algoritmos de aprendizado de máquina robustos para lidar com outliers.\n",
        "Exemplos incluem regressão robusta, clusterização com medoides, estimadores robustos, entre outros."
      ],
      "metadata": {
        "id": "mpilLN6PZbvr"
      }
    }
  ]
}